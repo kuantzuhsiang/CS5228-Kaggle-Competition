{
 "cells": [
  {
   "cell_type": "markdown",
   "metadata": {},
   "source": [
    "# CS5228 Kaggle Competition"
   ]
  },
  {
   "cell_type": "markdown",
   "metadata": {},
   "source": [
    "## Import Libraries"
   ]
  },
  {
   "cell_type": "code",
   "execution_count": 2,
   "metadata": {},
   "outputs": [],
   "source": [
    "import numpy as np\n",
    "import pandas as pd\n",
    "import matplotlib.pyplot as plt\n",
    "import seaborn as sns"
   ]
  },
  {
   "cell_type": "markdown",
   "metadata": {},
   "source": [
    "## Import Data"
   ]
  },
  {
   "cell_type": "code",
   "execution_count": 3,
   "metadata": {},
   "outputs": [],
   "source": [
    "train = pd.read_csv('./train.csv')\n",
    "test = pd.read_csv('./test.csv')"
   ]
  },
  {
   "cell_type": "code",
   "execution_count": 4,
   "metadata": {},
   "outputs": [
    {
     "data": {
      "text/plain": [
       "((431732, 17), (107934, 16))"
      ]
     },
     "execution_count": 4,
     "metadata": {},
     "output_type": "execute_result"
    }
   ],
   "source": [
    "train.shape , test.shape "
   ]
  },
  {
   "cell_type": "code",
   "execution_count": 5,
   "metadata": {},
   "outputs": [
    {
     "data": {
      "text/html": [
       "<div>\n",
       "<style scoped>\n",
       "    .dataframe tbody tr th:only-of-type {\n",
       "        vertical-align: middle;\n",
       "    }\n",
       "\n",
       "    .dataframe tbody tr th {\n",
       "        vertical-align: top;\n",
       "    }\n",
       "\n",
       "    .dataframe thead th {\n",
       "        text-align: right;\n",
       "    }\n",
       "</style>\n",
       "<table border=\"1\" class=\"dataframe\">\n",
       "  <thead>\n",
       "    <tr style=\"text-align: right;\">\n",
       "      <th></th>\n",
       "      <th>month</th>\n",
       "      <th>town</th>\n",
       "      <th>flat_type</th>\n",
       "      <th>block</th>\n",
       "      <th>street_name</th>\n",
       "      <th>storey_range</th>\n",
       "      <th>floor_area_sqm</th>\n",
       "      <th>flat_model</th>\n",
       "      <th>eco_category</th>\n",
       "      <th>lease_commence_date</th>\n",
       "      <th>latitude</th>\n",
       "      <th>longitude</th>\n",
       "      <th>elevation</th>\n",
       "      <th>subzone</th>\n",
       "      <th>planning_area</th>\n",
       "      <th>region</th>\n",
       "      <th>resale_price</th>\n",
       "    </tr>\n",
       "  </thead>\n",
       "  <tbody>\n",
       "    <tr>\n",
       "      <th>0</th>\n",
       "      <td>2001-08</td>\n",
       "      <td>pasir ris</td>\n",
       "      <td>4 room</td>\n",
       "      <td>440</td>\n",
       "      <td>pasir ris drive 4</td>\n",
       "      <td>01 to 03</td>\n",
       "      <td>118.0</td>\n",
       "      <td>model a</td>\n",
       "      <td>uncategorized</td>\n",
       "      <td>1989</td>\n",
       "      <td>1.369008</td>\n",
       "      <td>103.958697</td>\n",
       "      <td>0.0</td>\n",
       "      <td>pasir ris drive</td>\n",
       "      <td>pasir ris</td>\n",
       "      <td>east region</td>\n",
       "      <td>209700.0</td>\n",
       "    </tr>\n",
       "    <tr>\n",
       "      <th>1</th>\n",
       "      <td>2014-10</td>\n",
       "      <td>punggol</td>\n",
       "      <td>5-room</td>\n",
       "      <td>196B</td>\n",
       "      <td>punggol field</td>\n",
       "      <td>10 to 12</td>\n",
       "      <td>110.0</td>\n",
       "      <td>improved</td>\n",
       "      <td>uncategorized</td>\n",
       "      <td>2003</td>\n",
       "      <td>1.399007</td>\n",
       "      <td>103.906991</td>\n",
       "      <td>0.0</td>\n",
       "      <td>punggol field</td>\n",
       "      <td>punggol</td>\n",
       "      <td>north-east region</td>\n",
       "      <td>402300.0</td>\n",
       "    </tr>\n",
       "    <tr>\n",
       "      <th>2</th>\n",
       "      <td>2020-09</td>\n",
       "      <td>sengkang</td>\n",
       "      <td>5 room</td>\n",
       "      <td>404A</td>\n",
       "      <td>fernvale lane</td>\n",
       "      <td>01 to 03</td>\n",
       "      <td>112.0</td>\n",
       "      <td>premium apartment</td>\n",
       "      <td>uncategorized</td>\n",
       "      <td>2004</td>\n",
       "      <td>1.388348</td>\n",
       "      <td>103.873815</td>\n",
       "      <td>0.0</td>\n",
       "      <td>fernvale</td>\n",
       "      <td>sengkang</td>\n",
       "      <td>north-east region</td>\n",
       "      <td>351000.0</td>\n",
       "    </tr>\n",
       "    <tr>\n",
       "      <th>3</th>\n",
       "      <td>2000-10</td>\n",
       "      <td>clementi</td>\n",
       "      <td>3 room</td>\n",
       "      <td>375</td>\n",
       "      <td>clementi avenue 4</td>\n",
       "      <td>07 to 09</td>\n",
       "      <td>67.0</td>\n",
       "      <td>new generation</td>\n",
       "      <td>uncategorized</td>\n",
       "      <td>1980</td>\n",
       "      <td>1.318493</td>\n",
       "      <td>103.766702</td>\n",
       "      <td>0.0</td>\n",
       "      <td>clementi north</td>\n",
       "      <td>clementi</td>\n",
       "      <td>west region</td>\n",
       "      <td>151200.0</td>\n",
       "    </tr>\n",
       "    <tr>\n",
       "      <th>4</th>\n",
       "      <td>2013-01</td>\n",
       "      <td>bukit batok</td>\n",
       "      <td>3-room</td>\n",
       "      <td>163</td>\n",
       "      <td>bukit batok street 11</td>\n",
       "      <td>07 to 09</td>\n",
       "      <td>73.0</td>\n",
       "      <td>model a</td>\n",
       "      <td>uncategorized</td>\n",
       "      <td>1985</td>\n",
       "      <td>1.348149</td>\n",
       "      <td>103.742658</td>\n",
       "      <td>0.0</td>\n",
       "      <td>bukit batok west</td>\n",
       "      <td>bukit batok</td>\n",
       "      <td>west region</td>\n",
       "      <td>318600.0</td>\n",
       "    </tr>\n",
       "  </tbody>\n",
       "</table>\n",
       "</div>"
      ],
      "text/plain": [
       "     month         town flat_type block            street_name storey_range  \\\n",
       "0  2001-08    pasir ris    4 room   440      pasir ris drive 4     01 to 03   \n",
       "1  2014-10      punggol    5-room  196B          punggol field     10 to 12   \n",
       "2  2020-09     sengkang    5 room  404A          fernvale lane     01 to 03   \n",
       "3  2000-10     clementi    3 room   375      clementi avenue 4     07 to 09   \n",
       "4  2013-01  bukit batok    3-room   163  bukit batok street 11     07 to 09   \n",
       "\n",
       "   floor_area_sqm         flat_model   eco_category  lease_commence_date  \\\n",
       "0           118.0            model a  uncategorized                 1989   \n",
       "1           110.0           improved  uncategorized                 2003   \n",
       "2           112.0  premium apartment  uncategorized                 2004   \n",
       "3            67.0     new generation  uncategorized                 1980   \n",
       "4            73.0            model a  uncategorized                 1985   \n",
       "\n",
       "   latitude   longitude  elevation           subzone planning_area  \\\n",
       "0  1.369008  103.958697        0.0   pasir ris drive     pasir ris   \n",
       "1  1.399007  103.906991        0.0     punggol field       punggol   \n",
       "2  1.388348  103.873815        0.0          fernvale      sengkang   \n",
       "3  1.318493  103.766702        0.0    clementi north      clementi   \n",
       "4  1.348149  103.742658        0.0  bukit batok west   bukit batok   \n",
       "\n",
       "              region  resale_price  \n",
       "0        east region      209700.0  \n",
       "1  north-east region      402300.0  \n",
       "2  north-east region      351000.0  \n",
       "3        west region      151200.0  \n",
       "4        west region      318600.0  "
      ]
     },
     "execution_count": 5,
     "metadata": {},
     "output_type": "execute_result"
    }
   ],
   "source": [
    "train.head()"
   ]
  },
  {
   "cell_type": "code",
   "execution_count": 6,
   "metadata": {},
   "outputs": [
    {
     "name": "stdout",
     "output_type": "stream",
     "text": [
      "<class 'pandas.core.frame.DataFrame'>\n",
      "RangeIndex: 431732 entries, 0 to 431731\n",
      "Data columns (total 17 columns):\n",
      "month                  431732 non-null object\n",
      "town                   431732 non-null object\n",
      "flat_type              431732 non-null object\n",
      "block                  431732 non-null object\n",
      "street_name            431732 non-null object\n",
      "storey_range           431732 non-null object\n",
      "floor_area_sqm         431732 non-null float64\n",
      "flat_model             431732 non-null object\n",
      "eco_category           431732 non-null object\n",
      "lease_commence_date    431732 non-null int64\n",
      "latitude               431732 non-null float64\n",
      "longitude              431732 non-null float64\n",
      "elevation              431732 non-null float64\n",
      "subzone                431732 non-null object\n",
      "planning_area          431732 non-null object\n",
      "region                 431732 non-null object\n",
      "resale_price           431732 non-null float64\n",
      "dtypes: float64(5), int64(1), object(11)\n",
      "memory usage: 56.0+ MB\n"
     ]
    }
   ],
   "source": [
    "train.info()"
   ]
  },
  {
   "cell_type": "code",
   "execution_count": null,
   "metadata": {},
   "outputs": [],
   "source": []
  }
 ],
 "metadata": {
  "kernelspec": {
   "display_name": "Python 3",
   "language": "python",
   "name": "python3"
  },
  "language_info": {
   "codemirror_mode": {
    "name": "ipython",
    "version": 3
   },
   "file_extension": ".py",
   "mimetype": "text/x-python",
   "name": "python",
   "nbconvert_exporter": "python",
   "pygments_lexer": "ipython3",
   "version": "3.7.5"
  }
 },
 "nbformat": 4,
 "nbformat_minor": 4
}
