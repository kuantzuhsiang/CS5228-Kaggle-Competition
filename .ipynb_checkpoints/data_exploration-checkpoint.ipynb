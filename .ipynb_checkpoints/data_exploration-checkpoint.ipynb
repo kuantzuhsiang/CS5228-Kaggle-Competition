{
 "cells": [
  {
   "cell_type": "markdown",
   "metadata": {},
   "source": [
    "# Exploratory Data Analysis"
   ]
  },
  {
   "cell_type": "markdown",
   "metadata": {},
   "source": [
    "Script used to explore the different features and dimensions of the dataset. The main focus of this script is to make sense of the dataset, explore the use of different features and their relevance in the following learning steps and remove potentially inconsistencies/corrupted datapoints/outliers that will decrease prediction accuracy in trained models."
   ]
  },
  {
   "cell_type": "markdown",
   "metadata": {},
   "source": [
    "## Import Packages"
   ]
  },
  {
   "cell_type": "code",
   "execution_count": 1,
   "metadata": {},
   "outputs": [
    {
     "name": "stderr",
     "output_type": "stream",
     "text": [
      "In D:\\Anaconda3\\envs\\ipykernel_py3\\lib\\site-packages\\matplotlib\\mpl-data\\stylelib\\_classic_test.mplstyle: \n",
      "The text.latex.preview rcparam was deprecated in Matplotlib 3.3 and will be removed two minor releases later.\n",
      "In D:\\Anaconda3\\envs\\ipykernel_py3\\lib\\site-packages\\matplotlib\\mpl-data\\stylelib\\_classic_test.mplstyle: \n",
      "The mathtext.fallback_to_cm rcparam was deprecated in Matplotlib 3.3 and will be removed two minor releases later.\n",
      "In D:\\Anaconda3\\envs\\ipykernel_py3\\lib\\site-packages\\matplotlib\\mpl-data\\stylelib\\_classic_test.mplstyle: Support for setting the 'mathtext.fallback_to_cm' rcParam is deprecated since 3.3 and will be removed two minor releases later; use 'mathtext.fallback : 'cm' instead.\n",
      "In D:\\Anaconda3\\envs\\ipykernel_py3\\lib\\site-packages\\matplotlib\\mpl-data\\stylelib\\_classic_test.mplstyle: \n",
      "The validate_bool_maybe_none function was deprecated in Matplotlib 3.3 and will be removed two minor releases later.\n",
      "In D:\\Anaconda3\\envs\\ipykernel_py3\\lib\\site-packages\\matplotlib\\mpl-data\\stylelib\\_classic_test.mplstyle: \n",
      "The savefig.jpeg_quality rcparam was deprecated in Matplotlib 3.3 and will be removed two minor releases later.\n",
      "In D:\\Anaconda3\\envs\\ipykernel_py3\\lib\\site-packages\\matplotlib\\mpl-data\\stylelib\\_classic_test.mplstyle: \n",
      "The keymap.all_axes rcparam was deprecated in Matplotlib 3.3 and will be removed two minor releases later.\n",
      "In D:\\Anaconda3\\envs\\ipykernel_py3\\lib\\site-packages\\matplotlib\\mpl-data\\stylelib\\_classic_test.mplstyle: \n",
      "The animation.avconv_path rcparam was deprecated in Matplotlib 3.3 and will be removed two minor releases later.\n",
      "In D:\\Anaconda3\\envs\\ipykernel_py3\\lib\\site-packages\\matplotlib\\mpl-data\\stylelib\\_classic_test.mplstyle: \n",
      "The animation.avconv_args rcparam was deprecated in Matplotlib 3.3 and will be removed two minor releases later.\n"
     ]
    }
   ],
   "source": [
    "import numpy as np\n",
    "import pandas as pd\n",
    "from scipy import stats\n",
    "import matplotlib.pyplot as plt\n",
    "import seaborn as sns"
   ]
  },
  {
   "cell_type": "markdown",
   "metadata": {},
   "source": [
    "## Import Data"
   ]
  },
  {
   "cell_type": "code",
   "execution_count": 2,
   "metadata": {},
   "outputs": [],
   "source": [
    "train = pd.read_csv('./train.csv')\n",
    "test = pd.read_csv('./test.csv')"
   ]
  },
  {
   "cell_type": "markdown",
   "metadata": {},
   "source": [
    "## Exploration of Feature Space"
   ]
  },
  {
   "cell_type": "markdown",
   "metadata": {},
   "source": [
    "Here we check the numbers of rows and columns within the train and test datasets"
   ]
  },
  {
   "cell_type": "code",
   "execution_count": 3,
   "metadata": {},
   "outputs": [
    {
     "data": {
      "text/plain": [
       "((431732, 17), (107934, 16))"
      ]
     },
     "execution_count": 3,
     "metadata": {},
     "output_type": "execute_result"
    }
   ],
   "source": [
    "train.shape , test.shape"
   ]
  },
  {
   "cell_type": "markdown",
   "metadata": {},
   "source": [
    "Here we list out the features in the train dataset. The features for the test dataset is identical but missing the y label which is what we will be predicting for hence it has 1 fewer dimension. For the purpose of exploration, focus will be placed on train dataset"
   ]
  },
  {
   "cell_type": "code",
   "execution_count": 4,
   "metadata": {},
   "outputs": [
    {
     "data": {
      "text/html": [
       "<div>\n",
       "<style scoped>\n",
       "    .dataframe tbody tr th:only-of-type {\n",
       "        vertical-align: middle;\n",
       "    }\n",
       "\n",
       "    .dataframe tbody tr th {\n",
       "        vertical-align: top;\n",
       "    }\n",
       "\n",
       "    .dataframe thead th {\n",
       "        text-align: right;\n",
       "    }\n",
       "</style>\n",
       "<table border=\"1\" class=\"dataframe\">\n",
       "  <thead>\n",
       "    <tr style=\"text-align: right;\">\n",
       "      <th></th>\n",
       "      <th>month</th>\n",
       "      <th>town</th>\n",
       "      <th>flat_type</th>\n",
       "      <th>block</th>\n",
       "      <th>street_name</th>\n",
       "      <th>storey_range</th>\n",
       "      <th>floor_area_sqm</th>\n",
       "      <th>flat_model</th>\n",
       "      <th>eco_category</th>\n",
       "      <th>lease_commence_date</th>\n",
       "      <th>latitude</th>\n",
       "      <th>longitude</th>\n",
       "      <th>elevation</th>\n",
       "      <th>subzone</th>\n",
       "      <th>planning_area</th>\n",
       "      <th>region</th>\n",
       "      <th>resale_price</th>\n",
       "    </tr>\n",
       "  </thead>\n",
       "  <tbody>\n",
       "    <tr>\n",
       "      <th>0</th>\n",
       "      <td>2001-08</td>\n",
       "      <td>pasir ris</td>\n",
       "      <td>4 room</td>\n",
       "      <td>440</td>\n",
       "      <td>pasir ris drive 4</td>\n",
       "      <td>01 to 03</td>\n",
       "      <td>118.0</td>\n",
       "      <td>model a</td>\n",
       "      <td>uncategorized</td>\n",
       "      <td>1989</td>\n",
       "      <td>1.369008</td>\n",
       "      <td>103.958697</td>\n",
       "      <td>0.0</td>\n",
       "      <td>pasir ris drive</td>\n",
       "      <td>pasir ris</td>\n",
       "      <td>east region</td>\n",
       "      <td>209700.0</td>\n",
       "    </tr>\n",
       "    <tr>\n",
       "      <th>1</th>\n",
       "      <td>2014-10</td>\n",
       "      <td>punggol</td>\n",
       "      <td>5-room</td>\n",
       "      <td>196B</td>\n",
       "      <td>punggol field</td>\n",
       "      <td>10 to 12</td>\n",
       "      <td>110.0</td>\n",
       "      <td>improved</td>\n",
       "      <td>uncategorized</td>\n",
       "      <td>2003</td>\n",
       "      <td>1.399007</td>\n",
       "      <td>103.906991</td>\n",
       "      <td>0.0</td>\n",
       "      <td>punggol field</td>\n",
       "      <td>punggol</td>\n",
       "      <td>north-east region</td>\n",
       "      <td>402300.0</td>\n",
       "    </tr>\n",
       "    <tr>\n",
       "      <th>2</th>\n",
       "      <td>2020-09</td>\n",
       "      <td>sengkang</td>\n",
       "      <td>5 room</td>\n",
       "      <td>404A</td>\n",
       "      <td>fernvale lane</td>\n",
       "      <td>01 to 03</td>\n",
       "      <td>112.0</td>\n",
       "      <td>premium apartment</td>\n",
       "      <td>uncategorized</td>\n",
       "      <td>2004</td>\n",
       "      <td>1.388348</td>\n",
       "      <td>103.873815</td>\n",
       "      <td>0.0</td>\n",
       "      <td>fernvale</td>\n",
       "      <td>sengkang</td>\n",
       "      <td>north-east region</td>\n",
       "      <td>351000.0</td>\n",
       "    </tr>\n",
       "    <tr>\n",
       "      <th>3</th>\n",
       "      <td>2000-10</td>\n",
       "      <td>clementi</td>\n",
       "      <td>3 room</td>\n",
       "      <td>375</td>\n",
       "      <td>clementi avenue 4</td>\n",
       "      <td>07 to 09</td>\n",
       "      <td>67.0</td>\n",
       "      <td>new generation</td>\n",
       "      <td>uncategorized</td>\n",
       "      <td>1980</td>\n",
       "      <td>1.318493</td>\n",
       "      <td>103.766702</td>\n",
       "      <td>0.0</td>\n",
       "      <td>clementi north</td>\n",
       "      <td>clementi</td>\n",
       "      <td>west region</td>\n",
       "      <td>151200.0</td>\n",
       "    </tr>\n",
       "    <tr>\n",
       "      <th>4</th>\n",
       "      <td>2013-01</td>\n",
       "      <td>bukit batok</td>\n",
       "      <td>3-room</td>\n",
       "      <td>163</td>\n",
       "      <td>bukit batok street 11</td>\n",
       "      <td>07 to 09</td>\n",
       "      <td>73.0</td>\n",
       "      <td>model a</td>\n",
       "      <td>uncategorized</td>\n",
       "      <td>1985</td>\n",
       "      <td>1.348149</td>\n",
       "      <td>103.742658</td>\n",
       "      <td>0.0</td>\n",
       "      <td>bukit batok west</td>\n",
       "      <td>bukit batok</td>\n",
       "      <td>west region</td>\n",
       "      <td>318600.0</td>\n",
       "    </tr>\n",
       "  </tbody>\n",
       "</table>\n",
       "</div>"
      ],
      "text/plain": [
       "     month         town flat_type block            street_name storey_range  \\\n",
       "0  2001-08    pasir ris    4 room   440      pasir ris drive 4     01 to 03   \n",
       "1  2014-10      punggol    5-room  196B          punggol field     10 to 12   \n",
       "2  2020-09     sengkang    5 room  404A          fernvale lane     01 to 03   \n",
       "3  2000-10     clementi    3 room   375      clementi avenue 4     07 to 09   \n",
       "4  2013-01  bukit batok    3-room   163  bukit batok street 11     07 to 09   \n",
       "\n",
       "   floor_area_sqm         flat_model   eco_category  lease_commence_date  \\\n",
       "0           118.0            model a  uncategorized                 1989   \n",
       "1           110.0           improved  uncategorized                 2003   \n",
       "2           112.0  premium apartment  uncategorized                 2004   \n",
       "3            67.0     new generation  uncategorized                 1980   \n",
       "4            73.0            model a  uncategorized                 1985   \n",
       "\n",
       "   latitude   longitude  elevation           subzone planning_area  \\\n",
       "0  1.369008  103.958697        0.0   pasir ris drive     pasir ris   \n",
       "1  1.399007  103.906991        0.0     punggol field       punggol   \n",
       "2  1.388348  103.873815        0.0          fernvale      sengkang   \n",
       "3  1.318493  103.766702        0.0    clementi north      clementi   \n",
       "4  1.348149  103.742658        0.0  bukit batok west   bukit batok   \n",
       "\n",
       "              region  resale_price  \n",
       "0        east region      209700.0  \n",
       "1  north-east region      402300.0  \n",
       "2  north-east region      351000.0  \n",
       "3        west region      151200.0  \n",
       "4        west region      318600.0  "
      ]
     },
     "execution_count": 4,
     "metadata": {},
     "output_type": "execute_result"
    }
   ],
   "source": [
    "train.head()"
   ]
  },
  {
   "cell_type": "markdown",
   "metadata": {},
   "source": [
    "Here we list out some elementary description of the datatypes of each feature and the number of unique counts (not inclusive of NaN) of values from each column"
   ]
  },
  {
   "cell_type": "code",
   "execution_count": 5,
   "metadata": {},
   "outputs": [
    {
     "name": "stdout",
     "output_type": "stream",
     "text": [
      "<class 'pandas.core.frame.DataFrame'>\n",
      "RangeIndex: 431732 entries, 0 to 431731\n",
      "Data columns (total 17 columns):\n",
      " #   Column               Non-Null Count   Dtype  \n",
      "---  ------               --------------   -----  \n",
      " 0   month                431732 non-null  object \n",
      " 1   town                 431732 non-null  object \n",
      " 2   flat_type            431732 non-null  object \n",
      " 3   block                431732 non-null  object \n",
      " 4   street_name          431732 non-null  object \n",
      " 5   storey_range         431732 non-null  object \n",
      " 6   floor_area_sqm       431732 non-null  float64\n",
      " 7   flat_model           431732 non-null  object \n",
      " 8   eco_category         431732 non-null  object \n",
      " 9   lease_commence_date  431732 non-null  int64  \n",
      " 10  latitude             431732 non-null  float64\n",
      " 11  longitude            431732 non-null  float64\n",
      " 12  elevation            431732 non-null  float64\n",
      " 13  subzone              431732 non-null  object \n",
      " 14  planning_area        431732 non-null  object \n",
      " 15  region               431732 non-null  object \n",
      " 16  resale_price         431732 non-null  float64\n",
      "dtypes: float64(5), int64(1), object(11)\n",
      "memory usage: 56.0+ MB\n"
     ]
    }
   ],
   "source": [
    "train.info()"
   ]
  },
  {
   "cell_type": "markdown",
   "metadata": {},
   "source": [
    "## Inspecting 'eco-category' and 'elevation'"
   ]
  },
  {
   "cell_type": "markdown",
   "metadata": {},
   "source": [
    "From the printed first few datapoints in the dataset, we observe that 'eco-category' and 'elevation' seems to have all the same value of 'uncategorized' and 0.0 respectively, here we take a closer look to check if this observation holds across the entire dataset"
   ]
  },
  {
   "cell_type": "code",
   "execution_count": 30,
   "metadata": {},
   "outputs": [
    {
     "data": {
      "text/plain": [
       "uncategorized    431732\n",
       "Name: eco_category, dtype: int64"
      ]
     },
     "execution_count": 30,
     "metadata": {},
     "output_type": "execute_result"
    }
   ],
   "source": [
    "train['eco_category'].value_counts()"
   ]
  },
  {
   "cell_type": "code",
   "execution_count": 31,
   "metadata": {},
   "outputs": [
    {
     "data": {
      "text/plain": [
       "0.0    431732\n",
       "Name: elevation, dtype: int64"
      ]
     },
     "execution_count": 31,
     "metadata": {},
     "output_type": "execute_result"
    }
   ],
   "source": [
    "train['elevation'].value_counts()"
   ]
  },
  {
   "cell_type": "markdown",
   "metadata": {},
   "source": [
    "Both 'eco_category' and 'elevation' have only 1 unique value and nothing can be learnt from these features."
   ]
  },
  {
   "cell_type": "markdown",
   "metadata": {},
   "source": [
    "## Exploring Dataset as Time Series Data"
   ]
  },
  {
   "cell_type": "markdown",
   "metadata": {},
   "source": [
    "From the description of the data, we know that the data records 'resale_price' of HDB flats sold in Singapore within a certain time period. First, we identify the time period which the dataset covers"
   ]
  },
  {
   "cell_type": "code",
   "execution_count": 7,
   "metadata": {},
   "outputs": [
    {
     "data": {
      "text/plain": [
       "('2000-01', '2020-11')"
      ]
     },
     "execution_count": 7,
     "metadata": {},
     "output_type": "execute_result"
    }
   ],
   "source": [
    "min(train['month']), max(train['month'])"
   ]
  },
  {
   "cell_type": "markdown",
   "metadata": {},
   "source": [
    "Here we want to plot the mean, max, and min 'resale_price'  against time to identify trends across time as well as to look at variance within the dataset"
   ]
  },
  {
   "cell_type": "code",
   "execution_count": 32,
   "metadata": {},
   "outputs": [
    {
     "data": {
      "text/plain": [
       "<matplotlib.collections.PolyCollection at 0x1b4c05bd048>"
      ]
     },
     "execution_count": 32,
     "metadata": {},
     "output_type": "execute_result"
    },
    {
     "data": {
      "image/png": "[encoded data removed]",
      "text/plain": [
       "<Figure size 432x288 with 1 Axes>"
      ]
     },
     "metadata": {
      "needs_background": "light"
     },
     "output_type": "display_data"
    }
   ],
   "source": [
    "time_series = train.groupby('month')['resale_price'].agg(['min', 'max', 'mean'])\n",
    "time_series.reset_index(inplace=True)\n",
    "\n",
    "ax  = time_series.plot(x='month', y='mean', c='yellow')\n",
    "plt.fill_between(x='month', y1='min', y2='max', data=time_series)"
   ]
  },
  {
   "cell_type": "markdown",
   "metadata": {},
   "source": [
    "It may be observed that there seems to be 3 distinct periods in the time series data where the 'resale_price' follows distinctively unique trends "
   ]
  },
  {
   "cell_type": "code",
   "execution_count": 41,
   "metadata": {},
   "outputs": [
    {
     "data": {
      "text/plain": [
       "<matplotlib.lines.Line2D at 0x1b4c0d5f5c8>"
      ]
     },
     "execution_count": 41,
     "metadata": {},
     "output_type": "execute_result"
    },
    {
     "data": {
      "image/png": "[encoded data removed]",
      "text/plain": [
       "<Figure size 432x288 with 1 Axes>"
      ]
     },
     "metadata": {
      "needs_background": "light"
     },
     "output_type": "display_data"
    }
   ],
   "source": [
    "time_series = train.groupby('month')['resale_price'].agg(['min', 'max', 'mean'])\n",
    "time_series.reset_index(inplace=True)\n",
    "\n",
    "ax  = time_series.plot(x='month', y='mean', c='yellow')\n",
    "plt.fill_between(x='month', y1='min', y2='max', data=time_series)\n",
    "plt.axvline(x='2007-05', ymin=0, ymax=1e6, c='w', linestyle='dashed')\n",
    "plt.axvline(x='2013-05', ymin=0, ymax=1e6, c='w', linestyle='dashed')"
   ]
  },
  {
   "cell_type": "markdown",
   "metadata": {},
   "source": [
    "These time periods and their respective trends are:\n",
    "* 2000-01 to 2007-05 (constant, low volatilty)\n",
    "* 2007-05 to 2013-05 (increasing, low volatility)\n",
    "* 2013-05 to 2020-11 (constant, high volatility)"
   ]
  },
  {
   "cell_type": "markdown",
   "metadata": {},
   "source": [
    "## Inspecting 'resale_price'"
   ]
  },
  {
   "cell_type": "markdown",
   "metadata": {},
   "source": [
    "It may be observed that there is high degree of variance within the 'resale_price' of flats within each time period. Here we print some statistics to concretely show this"
   ]
  },
  {
   "cell_type": "code",
   "execution_count": 9,
   "metadata": {},
   "outputs": [
    {
     "name": "stdout",
     "output_type": "stream",
     "text": [
      "count    4.317320e+05\n",
      "mean     3.018196e+05\n",
      "std      1.298623e+05\n",
      "min      2.970000e+04\n",
      "25%      2.052000e+05\n",
      "50%      2.839500e+05\n",
      "75%      3.735000e+05\n",
      "max      1.123200e+06\n",
      "Name: resale_price, dtype: float64\n"
     ]
    }
   ],
   "source": [
    "print(train['resale_price'].describe())"
   ]
  },
  {
   "cell_type": "markdown",
   "metadata": {},
   "source": [
    "The large difference between max and mean (i.e. max - mean) compared to the difference between mean and min (i.e. mean - min) seems to indicate that 'resale_price' has a skewed distribution. This is supported by the fact that in the plot above the mean line resides towards the bottom region of the shaded region. Here we visually confirm the skewed distribution by plotting a distribution graph"
   ]
  },
  {
   "cell_type": "code",
   "execution_count": 10,
   "metadata": {},
   "outputs": [
    {
     "data": {
      "text/plain": [
       "<AxesSubplot:xlabel='resale_price'>"
      ]
     },
     "execution_count": 10,
     "metadata": {},
     "output_type": "execute_result"
    },
    {
     "data": {
      "image/png": "[encoded data removed]",
      "text/plain": [
       "<Figure size 432x288 with 1 Axes>"
      ]
     },
     "metadata": {
      "needs_background": "light"
     },
     "output_type": "display_data"
    }
   ],
   "source": [
    "sns.distplot(train['resale_price'])"
   ]
  },
  {
   "cell_type": "markdown",
   "metadata": {},
   "source": [
    "Many machine learning models assume for a normal distribution in the data. Hence this skewness will have to be corrected for via a transform function later on to ensure that models being trained do not make biased predictions"
   ]
  },
  {
   "cell_type": "markdown",
   "metadata": {},
   "source": [
    "## Inspecting 'flat_type'"
   ]
  },
  {
   "cell_type": "markdown",
   "metadata": {},
   "source": [
    "'flat_type' is stored as type object and can not be easily computed with using standard machine learning models in python libraries. Here we check the for the unique values to determine most suitable data type for this feature"
   ]
  },
  {
   "cell_type": "code",
   "execution_count": 26,
   "metadata": {},
   "outputs": [
    {
     "name": "stdout",
     "output_type": "stream",
     "text": [
      "['4 room' '5-room' '5 room' '3 room' '3-room' 'executive' '2 room'\n",
      " '4-room' 'multi generation' '2-room' '1-room' '1 room']\n"
     ]
    }
   ],
   "source": [
    "print(train['flat_type'].unique())"
   ]
  },
  {
   "cell_type": "markdown",
   "metadata": {},
   "source": [
    "It may be observed that the 'flat_type' feature is categorical and there are multiple categories that have been classified as separate although they are identical:\n",
    "\n",
    "* 1 room and 1-room\n",
    "* 2 room and 2-room\n",
    "* 3 room and 3-room\n",
    "* 4 room and 4-room\n",
    "* 5 room and 5-room\n",
    "\n",
    "This values will have to be corrected for"
   ]
  },
  {
   "cell_type": "markdown",
   "metadata": {},
   "source": [
    "## Inspecting 'storey_range'"
   ]
  },
  {
   "cell_type": "markdown",
   "metadata": {},
   "source": [
    "'storey_range' is stored as type object and can not be easily computed with using standard machine learning models in python libraries. Here we check the for the unique values to determine most suitable data type for this feature"
   ]
  },
  {
   "cell_type": "code",
   "execution_count": 24,
   "metadata": {},
   "outputs": [
    {
     "name": "stdout",
     "output_type": "stream",
     "text": [
      "['01 to 03' '10 to 12' '07 to 09' '13 to 15' '16 to 18' '04 to 06'\n",
      " '22 to 24' '01 to 05' '19 to 21' '11 to 15' '06 to 10' '25 to 27'\n",
      " '31 to 33' '28 to 30' '37 to 39' '34 to 36' '21 to 25' '16 to 20'\n",
      " '40 to 42' '46 to 48' '43 to 45' '26 to 30' '36 to 40' '31 to 35'\n",
      " '49 to 51']\n"
     ]
    }
   ],
   "source": [
    "print(train['storey_range'].unique())"
   ]
  },
  {
   "cell_type": "markdown",
   "metadata": {},
   "source": [
    "It may be observed that the 'storey_range' feature is divided into multiple buckets with overlap. This can be considered a categorical datatype but using binary encoding on this will result in significant loss of information as multiple buckets will have to be merged."
   ]
  },
  {
   "cell_type": "markdown",
   "metadata": {},
   "source": [
    "## Inspecting 'flat_model'"
   ]
  },
  {
   "cell_type": "markdown",
   "metadata": {},
   "source": [
    "'flat_model' is stored as type object and can not be easily computed with using standard machine learning models in python libraries. Here we check the for the unique values to determine most suitable data type for this feature"
   ]
  },
  {
   "cell_type": "code",
   "execution_count": 42,
   "metadata": {},
   "outputs": [
    {
     "name": "stdout",
     "output_type": "stream",
     "text": [
      "['model a' 'improved' 'premium apartment' 'new generation' 'apartment'\n",
      " 'simplified' 'standard' 'adjoined flat' 'multi generation' 'maisonette'\n",
      " 'model a2' 'model a maisonette' 'dbss' 'improved maisonette' 'terrace'\n",
      " 'type s1' 'type s2' '2 room' 'premium apartment loft'\n",
      " 'premium maisonette']\n"
     ]
    }
   ],
   "source": [
    "print(train['flat_model'].unique())"
   ]
  },
  {
   "cell_type": "markdown",
   "metadata": {},
   "source": [
    "It may be observed that 'flat_model' feature is categorical. Given the large number of categories, using binary encoding here will result in sparse data which is not ideal for training machine learning models. It should also be noted that the 'flat_model' is known to affect the 'resale_price' with certain flat models being more expensive than others. Hence, 'flat_model' could be transformed into the ordinal numeric data type ranked based on the average 'resale_price' of each flat model"
   ]
  },
  {
   "cell_type": "code",
   "execution_count": null,
   "metadata": {},
   "outputs": [],
   "source": []
  }
 ],
 "metadata": {
  "kernelspec": {
   "display_name": "Python 3",
   "language": "python",
   "name": "python3"
  },
  "language_info": {
   "codemirror_mode": {
    "name": "ipython",
    "version": 3
   },
   "file_extension": ".py",
   "mimetype": "text/x-python",
   "name": "python",
   "nbconvert_exporter": "python",
   "pygments_lexer": "ipython3",
   "version": "3.7.5"
  }
 },
 "nbformat": 4,
 "nbformat_minor": 4
}
