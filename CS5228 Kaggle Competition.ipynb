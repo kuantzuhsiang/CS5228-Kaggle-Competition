{
 "cells": [
  {
   "cell_type": "markdown",
   "metadata": {},
   "source": [
    "# CS5228 Kaggle Competition"
   ]
  },
  {
   "cell_type": "markdown",
   "metadata": {},
   "source": [
    "## Install Packages"
   ]
  },
  {
   "cell_type": "code",
   "execution_count": 8,
   "metadata": {},
   "outputs": [
    {
     "name": "stdout",
     "output_type": "stream",
     "text": [
      "Collecting package metadata (current_repodata.json): ...working... done\n",
      "Solving environment: ...working... done\n",
      "\n",
      "# All requested packages already installed.\n",
      "\n",
      "Collecting package metadata (current_repodata.json): ...working... done\n",
      "Solving environment: ...working... done\n",
      "\n",
      "# All requested packages already installed.\n",
      "\n",
      "Collecting package metadata (current_repodata.json): ...working... done\n",
      "Solving environment: ...working... done\n",
      "\n",
      "# All requested packages already installed.\n",
      "\n"
     ]
    }
   ],
   "source": [
    "import sys\n",
    "\n",
    "!conda install --yes --prefix {sys.prefix} descartes\n",
    "!conda install --yes --prefix {sys.prefix} geopandas\n",
    "!conda install --yes --prefix {sys.prefix} shapely"
   ]
  },
  {
   "cell_type": "markdown",
   "metadata": {},
   "source": [
    "## Import Libraries"
   ]
  },
  {
   "cell_type": "code",
   "execution_count": 2,
   "metadata": {},
   "outputs": [],
   "source": [
    "import numpy as np\n",
    "import pandas as pd\n",
    "import matplotlib.pyplot as plt\n",
    "import seaborn as sns\n",
    "# import descartes\n",
    "# import geopandas as gpd\n",
    "# from shapely.geometry import Point, Polygon"
   ]
  },
  {
   "cell_type": "markdown",
   "metadata": {},
   "source": [
    "## Import Data"
   ]
  },
  {
   "cell_type": "code",
   "execution_count": 104,
   "metadata": {},
   "outputs": [],
   "source": [
    "train = pd.read_csv('./train.csv')\n",
    "test = pd.read_csv('./test.csv')"
   ]
  },
  {
   "cell_type": "code",
   "execution_count": 4,
   "metadata": {},
   "outputs": [
    {
     "data": {
      "text/plain": [
       "((431732, 17), (107934, 16))"
      ]
     },
     "execution_count": 4,
     "metadata": {},
     "output_type": "execute_result"
    }
   ],
   "source": [
    "train.shape , test.shape "
   ]
  },
  {
   "cell_type": "code",
   "execution_count": 5,
   "metadata": {},
   "outputs": [
    {
     "data": {
      "text/html": [
       "<div>\n",
       "<style scoped>\n",
       "    .dataframe tbody tr th:only-of-type {\n",
       "        vertical-align: middle;\n",
       "    }\n",
       "\n",
       "    .dataframe tbody tr th {\n",
       "        vertical-align: top;\n",
       "    }\n",
       "\n",
       "    .dataframe thead th {\n",
       "        text-align: right;\n",
       "    }\n",
       "</style>\n",
       "<table border=\"1\" class=\"dataframe\">\n",
       "  <thead>\n",
       "    <tr style=\"text-align: right;\">\n",
       "      <th></th>\n",
       "      <th>month</th>\n",
       "      <th>town</th>\n",
       "      <th>flat_type</th>\n",
       "      <th>block</th>\n",
       "      <th>street_name</th>\n",
       "      <th>storey_range</th>\n",
       "      <th>floor_area_sqm</th>\n",
       "      <th>flat_model</th>\n",
       "      <th>eco_category</th>\n",
       "      <th>lease_commence_date</th>\n",
       "      <th>latitude</th>\n",
       "      <th>longitude</th>\n",
       "      <th>elevation</th>\n",
       "      <th>subzone</th>\n",
       "      <th>planning_area</th>\n",
       "      <th>region</th>\n",
       "      <th>resale_price</th>\n",
       "    </tr>\n",
       "  </thead>\n",
       "  <tbody>\n",
       "    <tr>\n",
       "      <th>0</th>\n",
       "      <td>2001-08</td>\n",
       "      <td>pasir ris</td>\n",
       "      <td>4 room</td>\n",
       "      <td>440</td>\n",
       "      <td>pasir ris drive 4</td>\n",
       "      <td>01 to 03</td>\n",
       "      <td>118.0</td>\n",
       "      <td>model a</td>\n",
       "      <td>uncategorized</td>\n",
       "      <td>1989</td>\n",
       "      <td>1.369008</td>\n",
       "      <td>103.958697</td>\n",
       "      <td>0.0</td>\n",
       "      <td>pasir ris drive</td>\n",
       "      <td>pasir ris</td>\n",
       "      <td>east region</td>\n",
       "      <td>209700.0</td>\n",
       "    </tr>\n",
       "    <tr>\n",
       "      <th>1</th>\n",
       "      <td>2014-10</td>\n",
       "      <td>punggol</td>\n",
       "      <td>5-room</td>\n",
       "      <td>196B</td>\n",
       "      <td>punggol field</td>\n",
       "      <td>10 to 12</td>\n",
       "      <td>110.0</td>\n",
       "      <td>improved</td>\n",
       "      <td>uncategorized</td>\n",
       "      <td>2003</td>\n",
       "      <td>1.399007</td>\n",
       "      <td>103.906991</td>\n",
       "      <td>0.0</td>\n",
       "      <td>punggol field</td>\n",
       "      <td>punggol</td>\n",
       "      <td>north-east region</td>\n",
       "      <td>402300.0</td>\n",
       "    </tr>\n",
       "    <tr>\n",
       "      <th>2</th>\n",
       "      <td>2020-09</td>\n",
       "      <td>sengkang</td>\n",
       "      <td>5 room</td>\n",
       "      <td>404A</td>\n",
       "      <td>fernvale lane</td>\n",
       "      <td>01 to 03</td>\n",
       "      <td>112.0</td>\n",
       "      <td>premium apartment</td>\n",
       "      <td>uncategorized</td>\n",
       "      <td>2004</td>\n",
       "      <td>1.388348</td>\n",
       "      <td>103.873815</td>\n",
       "      <td>0.0</td>\n",
       "      <td>fernvale</td>\n",
       "      <td>sengkang</td>\n",
       "      <td>north-east region</td>\n",
       "      <td>351000.0</td>\n",
       "    </tr>\n",
       "    <tr>\n",
       "      <th>3</th>\n",
       "      <td>2000-10</td>\n",
       "      <td>clementi</td>\n",
       "      <td>3 room</td>\n",
       "      <td>375</td>\n",
       "      <td>clementi avenue 4</td>\n",
       "      <td>07 to 09</td>\n",
       "      <td>67.0</td>\n",
       "      <td>new generation</td>\n",
       "      <td>uncategorized</td>\n",
       "      <td>1980</td>\n",
       "      <td>1.318493</td>\n",
       "      <td>103.766702</td>\n",
       "      <td>0.0</td>\n",
       "      <td>clementi north</td>\n",
       "      <td>clementi</td>\n",
       "      <td>west region</td>\n",
       "      <td>151200.0</td>\n",
       "    </tr>\n",
       "    <tr>\n",
       "      <th>4</th>\n",
       "      <td>2013-01</td>\n",
       "      <td>bukit batok</td>\n",
       "      <td>3-room</td>\n",
       "      <td>163</td>\n",
       "      <td>bukit batok street 11</td>\n",
       "      <td>07 to 09</td>\n",
       "      <td>73.0</td>\n",
       "      <td>model a</td>\n",
       "      <td>uncategorized</td>\n",
       "      <td>1985</td>\n",
       "      <td>1.348149</td>\n",
       "      <td>103.742658</td>\n",
       "      <td>0.0</td>\n",
       "      <td>bukit batok west</td>\n",
       "      <td>bukit batok</td>\n",
       "      <td>west region</td>\n",
       "      <td>318600.0</td>\n",
       "    </tr>\n",
       "  </tbody>\n",
       "</table>\n",
       "</div>"
      ],
      "text/plain": [
       "     month         town flat_type block            street_name storey_range  \\\n",
       "0  2001-08    pasir ris    4 room   440      pasir ris drive 4     01 to 03   \n",
       "1  2014-10      punggol    5-room  196B          punggol field     10 to 12   \n",
       "2  2020-09     sengkang    5 room  404A          fernvale lane     01 to 03   \n",
       "3  2000-10     clementi    3 room   375      clementi avenue 4     07 to 09   \n",
       "4  2013-01  bukit batok    3-room   163  bukit batok street 11     07 to 09   \n",
       "\n",
       "   floor_area_sqm         flat_model   eco_category  lease_commence_date  \\\n",
       "0           118.0            model a  uncategorized                 1989   \n",
       "1           110.0           improved  uncategorized                 2003   \n",
       "2           112.0  premium apartment  uncategorized                 2004   \n",
       "3            67.0     new generation  uncategorized                 1980   \n",
       "4            73.0            model a  uncategorized                 1985   \n",
       "\n",
       "   latitude   longitude  elevation           subzone planning_area  \\\n",
       "0  1.369008  103.958697        0.0   pasir ris drive     pasir ris   \n",
       "1  1.399007  103.906991        0.0     punggol field       punggol   \n",
       "2  1.388348  103.873815        0.0          fernvale      sengkang   \n",
       "3  1.318493  103.766702        0.0    clementi north      clementi   \n",
       "4  1.348149  103.742658        0.0  bukit batok west   bukit batok   \n",
       "\n",
       "              region  resale_price  \n",
       "0        east region      209700.0  \n",
       "1  north-east region      402300.0  \n",
       "2  north-east region      351000.0  \n",
       "3        west region      151200.0  \n",
       "4        west region      318600.0  "
      ]
     },
     "execution_count": 5,
     "metadata": {},
     "output_type": "execute_result"
    }
   ],
   "source": [
    "train.head()"
   ]
  },
  {
   "cell_type": "code",
   "execution_count": 6,
   "metadata": {},
   "outputs": [
    {
     "name": "stdout",
     "output_type": "stream",
     "text": [
      "<class 'pandas.core.frame.DataFrame'>\n",
      "RangeIndex: 431732 entries, 0 to 431731\n",
      "Data columns (total 17 columns):\n",
      " #   Column               Non-Null Count   Dtype  \n",
      "---  ------               --------------   -----  \n",
      " 0   month                431732 non-null  object \n",
      " 1   town                 431732 non-null  object \n",
      " 2   flat_type            431732 non-null  object \n",
      " 3   block                431732 non-null  object \n",
      " 4   street_name          431732 non-null  object \n",
      " 5   storey_range         431732 non-null  object \n",
      " 6   floor_area_sqm       431732 non-null  float64\n",
      " 7   flat_model           431732 non-null  object \n",
      " 8   eco_category         431732 non-null  object \n",
      " 9   lease_commence_date  431732 non-null  int64  \n",
      " 10  latitude             431732 non-null  float64\n",
      " 11  longitude            431732 non-null  float64\n",
      " 12  elevation            431732 non-null  float64\n",
      " 13  subzone              431732 non-null  object \n",
      " 14  planning_area        431732 non-null  object \n",
      " 15  region               431732 non-null  object \n",
      " 16  resale_price         431732 non-null  float64\n",
      "dtypes: float64(5), int64(1), object(11)\n",
      "memory usage: 56.0+ MB\n"
     ]
    }
   ],
   "source": [
    "train.info()"
   ]
  },
  {
   "cell_type": "markdown",
   "metadata": {},
   "source": [
    "## Exploring Resale Price"
   ]
  },
  {
   "cell_type": "code",
   "execution_count": 43,
   "metadata": {},
   "outputs": [
    {
     "name": "stdout",
     "output_type": "stream",
     "text": [
      "count    4.317320e+05\n",
      "mean     3.018196e+05\n",
      "std      1.298623e+05\n",
      "min      2.970000e+04\n",
      "25%      2.052000e+05\n",
      "50%      2.839500e+05\n",
      "75%      3.735000e+05\n",
      "max      1.123200e+06\n",
      "Name: resale_price, dtype: float64\n"
     ]
    }
   ],
   "source": [
    "print(train['resale_price'].describe())"
   ]
  },
  {
   "cell_type": "code",
   "execution_count": 51,
   "metadata": {},
   "outputs": [
    {
     "data": {
      "text/plain": [
       "<matplotlib.collections.PolyCollection at 0x1cf44f396c8>"
      ]
     },
     "execution_count": 51,
     "metadata": {},
     "output_type": "execute_result"
    },
    {
     "data": {
      "image/png": "[encoded data removed]",
      "text/plain": [
       "<Figure size 432x288 with 1 Axes>"
      ]
     },
     "metadata": {
      "needs_background": "light"
     },
     "output_type": "display_data"
    }
   ],
   "source": [
    "time_series = train.groupby('month')['resale_price'].agg(['min', 'max', 'mean'])\n",
    "time_series.reset_index(inplace=True)\n",
    "\n",
    "ax  = time_series.plot(x='month', y='mean', c='yellow')\n",
    "plt.fill_between(x='month', y1='min', y2='max', data=time_series)"
   ]
  },
  {
   "cell_type": "code",
   "execution_count": 105,
   "metadata": {},
   "outputs": [
    {
     "data": {
      "text/plain": [
       "<AxesSubplot:xlabel='resale_price'>"
      ]
     },
     "execution_count": 105,
     "metadata": {},
     "output_type": "execute_result"
    },
    {
     "data": {
      "image/png": "[encoded data removed]",
      "text/plain": [
       "<Figure size 432x288 with 1 Axes>"
      ]
     },
     "metadata": {
      "needs_background": "light"
     },
     "output_type": "display_data"
    }
   ],
   "source": [
    "sns.distplot(train['resale_price'])"
   ]
  },
  {
   "cell_type": "code",
   "execution_count": 106,
   "metadata": {},
   "outputs": [
    {
     "name": "stdout",
     "output_type": "stream",
     "text": [
      "Skewness: 0.989732\n",
      "Kurtosis: 1.411183\n"
     ]
    }
   ],
   "source": [
    "print(\"Skewness: %f\" % train['resale_price'].skew())\n",
    "print(\"Kurtosis: %f\" % train['resale_price'].kurt())"
   ]
  },
  {
   "cell_type": "code",
   "execution_count": 109,
   "metadata": {},
   "outputs": [
    {
     "data": {
      "image/png": "[encoded data removed]",
      "text/plain": [
       "<Figure size 432x288 with 1 Axes>"
      ]
     },
     "metadata": {
      "needs_background": "light"
     },
     "output_type": "display_data"
    }
   ],
   "source": [
    "train_log = train\n",
    "train_log['resale_price'] = np.log1p(train['resale_price'])\n",
    "sns.distplot(train_log['resale_price']);"
   ]
  },
  {
   "cell_type": "code",
   "execution_count": 110,
   "metadata": {},
   "outputs": [
    {
     "name": "stdout",
     "output_type": "stream",
     "text": [
      "Skewness: -0.271899\n",
      "Kurtosis: -0.147466\n"
     ]
    }
   ],
   "source": [
    "print(\"Skewness: %f\" % train_log['resale_price'].skew())\n",
    "print(\"Kurtosis: %f\" % train_log['resale_price'].kurt())"
   ]
  },
  {
   "cell_type": "code",
   "execution_count": 111,
   "metadata": {},
   "outputs": [
    {
     "data": {
      "image/png": "[encoded data removed]",
      "text/plain": [
       "<Figure size 432x288 with 1 Axes>"
      ]
     },
     "metadata": {
      "needs_background": "light"
     },
     "output_type": "display_data"
    }
   ],
   "source": [
    "train_sqrt = train\n",
    "train_sqrt['resale_price'] = np.sqrt(train['resale_price'])\n",
    "sns.distplot(train_sqrt['resale_price']);"
   ]
  },
  {
   "cell_type": "code",
   "execution_count": 112,
   "metadata": {},
   "outputs": [
    {
     "name": "stdout",
     "output_type": "stream",
     "text": [
      "Skewness: -0.288445\n",
      "Kurtosis: -0.131448\n"
     ]
    }
   ],
   "source": [
    "print(\"Skewness: %f\" % train_sqrt['resale_price'].skew())\n",
    "print(\"Kurtosis: %f\" % train_sqrt['resale_price'].kurt())"
   ]
  },
  {
   "cell_type": "code",
   "execution_count": 113,
   "metadata": {},
   "outputs": [
    {
     "data": {
      "image/png": "[encoded data removed]",
      "text/plain": [
       "<Figure size 432x288 with 1 Axes>"
      ]
     },
     "metadata": {
      "needs_background": "light"
     },
     "output_type": "display_data"
    }
   ],
   "source": [
    "from scipy import stats\n",
    "\n",
    "train_boxcox = train\n",
    "train_boxcox['resale_price'] = stats.boxcox(train['resale_price'])[0]\n",
    "sns.distplot(train_boxcox['resale_price']);"
   ]
  },
  {
   "cell_type": "code",
   "execution_count": 114,
   "metadata": {},
   "outputs": [
    {
     "name": "stdout",
     "output_type": "stream",
     "text": [
      "Skewness: -0.010350\n",
      "Kurtosis: -0.261794\n"
     ]
    }
   ],
   "source": [
    "print(\"Skewness: %f\" % train_boxcox['resale_price'].skew())\n",
    "print(\"Kurtosis: %f\" % train_boxcox['resale_price'].kurt())"
   ]
  },
  {
   "cell_type": "markdown",
   "metadata": {},
   "source": [
    "## Exploring Features"
   ]
  },
  {
   "cell_type": "code",
   "execution_count": 56,
   "metadata": {},
   "outputs": [
    {
     "data": {
      "image/png": "[encoded data removed]",
      "text/plain": [
       "<Figure size 432x288 with 2 Axes>"
      ]
     },
     "metadata": {
      "needs_background": "light"
     },
     "output_type": "display_data"
    }
   ],
   "source": [
    "corr_matrix = train.corr()\n",
    "sns.heatmap(corr_matrix, vmax=.8, square=True);"
   ]
  },
  {
   "cell_type": "code",
   "execution_count": 67,
   "metadata": {},
   "outputs": [
    {
     "name": "stdout",
     "output_type": "stream",
     "text": [
      "Flat Types:\n",
      "['4 room' '5-room' '5 room' '3 room' '3-room' 'executive' '2 room'\n",
      " '4-room' 'multi generation' '2-room' '1-room' '1 room']\n",
      "\n",
      "Storey Range:\n",
      "['01 to 03' '10 to 12' '07 to 09' '13 to 15' '16 to 18' '04 to 06'\n",
      " '22 to 24' '01 to 05' '19 to 21' '11 to 15' '06 to 10' '25 to 27'\n",
      " '31 to 33' '28 to 30' '37 to 39' '34 to 36' '21 to 25' '16 to 20'\n",
      " '40 to 42' '46 to 48' '43 to 45' '26 to 30' '36 to 40' '31 to 35'\n",
      " '49 to 51']\n",
      "\n",
      "Flat Model:\n",
      "['model a' 'improved' 'premium apartment' 'new generation' 'apartment'\n",
      " 'simplified' 'standard' 'adjoined flat' 'multi generation' 'maisonette'\n",
      " 'model a2' 'model a maisonette' 'dbss' 'improved maisonette' 'terrace'\n",
      " 'type s1' 'type s2' '2 room' 'premium apartment loft'\n",
      " 'premium maisonette']\n"
     ]
    }
   ],
   "source": [
    "print(\"Flat Types:\")\n",
    "print(train['flat_type'].unique())\n",
    "\n",
    "print(\"\\nStorey Range:\")\n",
    "print(train['storey_range'].unique())\n",
    "\n",
    "print(\"\\nFlat Range:\")\n",
    "print(train['flat_model'].unique())"
   ]
  },
  {
   "cell_type": "code",
   "execution_count": 85,
   "metadata": {},
   "outputs": [
    {
     "data": {
      "text/plain": [
       "4-room              169597\n",
       "3-room              125721\n",
       "5-room               98697\n",
       "executive            32724\n",
       "2-room                4522\n",
       "1-room                 286\n",
       "multi generation       185\n",
       "Name: flat_type, dtype: int64"
      ]
     },
     "execution_count": 85,
     "metadata": {},
     "output_type": "execute_result"
    }
   ],
   "source": [
    "train['flat_type'] = train['flat_type'].str.replace('1 room', '1-room')\n",
    "train['flat_type'] = train['flat_type'].str.replace('2 room', '2-room')\n",
    "train['flat_type'] = train['flat_type'].str.replace('3 room', '3-room')\n",
    "train['flat_type'] = train['flat_type'].str.replace('4 room', '4-room')\n",
    "train['flat_type'] = train['flat_type'].str.replace('5 room', '5-room')\n",
    "train['flat_type'].value_counts()"
   ]
  },
  {
   "cell_type": "code",
   "execution_count": null,
   "metadata": {},
   "outputs": [],
   "source": []
  },
  {
   "cell_type": "code",
   "execution_count": null,
   "metadata": {},
   "outputs": [],
   "source": []
  },
  {
   "cell_type": "code",
   "execution_count": null,
   "metadata": {},
   "outputs": [],
   "source": []
  },
  {
   "cell_type": "code",
   "execution_count": null,
   "metadata": {},
   "outputs": [],
   "source": []
  },
  {
   "cell_type": "markdown",
   "metadata": {},
   "source": [
    "## Converting Datatypes"
   ]
  },
  {
   "cell_type": "code",
   "execution_count": 58,
   "metadata": {},
   "outputs": [
    {
     "data": {
      "text/html": [
       "<div>\n",
       "<style scoped>\n",
       "    .dataframe tbody tr th:only-of-type {\n",
       "        vertical-align: middle;\n",
       "    }\n",
       "\n",
       "    .dataframe tbody tr th {\n",
       "        vertical-align: top;\n",
       "    }\n",
       "\n",
       "    .dataframe thead th {\n",
       "        text-align: right;\n",
       "    }\n",
       "</style>\n",
       "<table border=\"1\" class=\"dataframe\">\n",
       "  <thead>\n",
       "    <tr style=\"text-align: right;\">\n",
       "      <th></th>\n",
       "      <th>datetime</th>\n",
       "      <th>month</th>\n",
       "      <th>town</th>\n",
       "      <th>flat_type</th>\n",
       "      <th>block</th>\n",
       "      <th>street_name</th>\n",
       "      <th>storey_range</th>\n",
       "      <th>floor_area_sqm</th>\n",
       "      <th>flat_model</th>\n",
       "      <th>eco_category</th>\n",
       "      <th>lease_commence_date</th>\n",
       "      <th>latitude</th>\n",
       "      <th>longitude</th>\n",
       "      <th>elevation</th>\n",
       "      <th>subzone</th>\n",
       "      <th>planning_area</th>\n",
       "      <th>region</th>\n",
       "      <th>resale_price</th>\n",
       "    </tr>\n",
       "  </thead>\n",
       "  <tbody>\n",
       "    <tr>\n",
       "      <th>0</th>\n",
       "      <td>2001-08-01</td>\n",
       "      <td>2001-08</td>\n",
       "      <td>pasir ris</td>\n",
       "      <td>4 room</td>\n",
       "      <td>440</td>\n",
       "      <td>pasir ris drive 4</td>\n",
       "      <td>01 to 03</td>\n",
       "      <td>118.0</td>\n",
       "      <td>model a</td>\n",
       "      <td>uncategorized</td>\n",
       "      <td>1989</td>\n",
       "      <td>1.369008</td>\n",
       "      <td>103.958697</td>\n",
       "      <td>0.0</td>\n",
       "      <td>pasir ris drive</td>\n",
       "      <td>pasir ris</td>\n",
       "      <td>east region</td>\n",
       "      <td>209700.0</td>\n",
       "    </tr>\n",
       "    <tr>\n",
       "      <th>1</th>\n",
       "      <td>2014-10-01</td>\n",
       "      <td>2014-10</td>\n",
       "      <td>punggol</td>\n",
       "      <td>5-room</td>\n",
       "      <td>196B</td>\n",
       "      <td>punggol field</td>\n",
       "      <td>10 to 12</td>\n",
       "      <td>110.0</td>\n",
       "      <td>improved</td>\n",
       "      <td>uncategorized</td>\n",
       "      <td>2003</td>\n",
       "      <td>1.399007</td>\n",
       "      <td>103.906991</td>\n",
       "      <td>0.0</td>\n",
       "      <td>punggol field</td>\n",
       "      <td>punggol</td>\n",
       "      <td>north-east region</td>\n",
       "      <td>402300.0</td>\n",
       "    </tr>\n",
       "    <tr>\n",
       "      <th>2</th>\n",
       "      <td>2020-09-01</td>\n",
       "      <td>2020-09</td>\n",
       "      <td>sengkang</td>\n",
       "      <td>5 room</td>\n",
       "      <td>404A</td>\n",
       "      <td>fernvale lane</td>\n",
       "      <td>01 to 03</td>\n",
       "      <td>112.0</td>\n",
       "      <td>premium apartment</td>\n",
       "      <td>uncategorized</td>\n",
       "      <td>2004</td>\n",
       "      <td>1.388348</td>\n",
       "      <td>103.873815</td>\n",
       "      <td>0.0</td>\n",
       "      <td>fernvale</td>\n",
       "      <td>sengkang</td>\n",
       "      <td>north-east region</td>\n",
       "      <td>351000.0</td>\n",
       "    </tr>\n",
       "    <tr>\n",
       "      <th>3</th>\n",
       "      <td>2000-10-01</td>\n",
       "      <td>2000-10</td>\n",
       "      <td>clementi</td>\n",
       "      <td>3 room</td>\n",
       "      <td>375</td>\n",
       "      <td>clementi avenue 4</td>\n",
       "      <td>07 to 09</td>\n",
       "      <td>67.0</td>\n",
       "      <td>new generation</td>\n",
       "      <td>uncategorized</td>\n",
       "      <td>1980</td>\n",
       "      <td>1.318493</td>\n",
       "      <td>103.766702</td>\n",
       "      <td>0.0</td>\n",
       "      <td>clementi north</td>\n",
       "      <td>clementi</td>\n",
       "      <td>west region</td>\n",
       "      <td>151200.0</td>\n",
       "    </tr>\n",
       "    <tr>\n",
       "      <th>4</th>\n",
       "      <td>2013-01-01</td>\n",
       "      <td>2013-01</td>\n",
       "      <td>bukit batok</td>\n",
       "      <td>3-room</td>\n",
       "      <td>163</td>\n",
       "      <td>bukit batok street 11</td>\n",
       "      <td>07 to 09</td>\n",
       "      <td>73.0</td>\n",
       "      <td>model a</td>\n",
       "      <td>uncategorized</td>\n",
       "      <td>1985</td>\n",
       "      <td>1.348149</td>\n",
       "      <td>103.742658</td>\n",
       "      <td>0.0</td>\n",
       "      <td>bukit batok west</td>\n",
       "      <td>bukit batok</td>\n",
       "      <td>west region</td>\n",
       "      <td>318600.0</td>\n",
       "    </tr>\n",
       "  </tbody>\n",
       "</table>\n",
       "</div>"
      ],
      "text/plain": [
       "    datetime    month         town flat_type block            street_name  \\\n",
       "0 2001-08-01  2001-08    pasir ris    4 room   440      pasir ris drive 4   \n",
       "1 2014-10-01  2014-10      punggol    5-room  196B          punggol field   \n",
       "2 2020-09-01  2020-09     sengkang    5 room  404A          fernvale lane   \n",
       "3 2000-10-01  2000-10     clementi    3 room   375      clementi avenue 4   \n",
       "4 2013-01-01  2013-01  bukit batok    3-room   163  bukit batok street 11   \n",
       "\n",
       "  storey_range  floor_area_sqm         flat_model   eco_category  \\\n",
       "0     01 to 03           118.0            model a  uncategorized   \n",
       "1     10 to 12           110.0           improved  uncategorized   \n",
       "2     01 to 03           112.0  premium apartment  uncategorized   \n",
       "3     07 to 09            67.0     new generation  uncategorized   \n",
       "4     07 to 09            73.0            model a  uncategorized   \n",
       "\n",
       "   lease_commence_date  latitude   longitude  elevation           subzone  \\\n",
       "0                 1989  1.369008  103.958697        0.0   pasir ris drive   \n",
       "1                 2003  1.399007  103.906991        0.0     punggol field   \n",
       "2                 2004  1.388348  103.873815        0.0          fernvale   \n",
       "3                 1980  1.318493  103.766702        0.0    clementi north   \n",
       "4                 1985  1.348149  103.742658        0.0  bukit batok west   \n",
       "\n",
       "  planning_area             region  resale_price  \n",
       "0     pasir ris        east region      209700.0  \n",
       "1       punggol  north-east region      402300.0  \n",
       "2      sengkang  north-east region      351000.0  \n",
       "3      clementi        west region      151200.0  \n",
       "4   bukit batok        west region      318600.0  "
      ]
     },
     "execution_count": 58,
     "metadata": {},
     "output_type": "execute_result"
    }
   ],
   "source": [
    "from datetime import datetime\n",
    "\n",
    "# convert date format to date time; since no day was given, the date will be 1st of every month\n",
    "train_new['datetime'] = pd.to_datetime(train['month'])\n",
    "\n",
    "# reorder the columns\n",
    "datetime = pd.DataFrame(train_new.pop('datetime'))\n",
    "train_new = datetime.join(train_new)\n",
    "train_new.head()"
   ]
  },
  {
   "cell_type": "code",
   "execution_count": null,
   "metadata": {},
   "outputs": [],
   "source": []
  }
 ],
 "metadata": {
  "kernelspec": {
   "display_name": "Python 3",
   "language": "python",
   "name": "python3"
  },
  "language_info": {
   "codemirror_mode": {
    "name": "ipython",
    "version": 3
   },
   "file_extension": ".py",
   "mimetype": "text/x-python",
   "name": "python",
   "nbconvert_exporter": "python",
   "pygments_lexer": "ipython3",
   "version": "3.7.5"
  }
 },
 "nbformat": 4,
 "nbformat_minor": 4
}
